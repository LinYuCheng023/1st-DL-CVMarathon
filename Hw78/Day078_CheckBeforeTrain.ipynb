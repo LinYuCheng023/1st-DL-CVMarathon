{
 "cells": [
  {
   "cell_type": "markdown",
   "metadata": {},
   "source": [
    "## 範例重點\n",
    "### 學習在模型開始前檢查各個環節\n",
    "1. 是否有 GPU 資源\n",
    "2. 將前處理轉為函式，統一處理訓練、驗證與測試集\n",
    "3. 將超參數變數化，易於重複使用函式、模型等"
   ]
  },
  {
   "cell_type": "code",
   "execution_count": 11,
   "metadata": {},
   "outputs": [],
   "source": [
    "from keras import backend as K"
   ]
  },
  {
   "cell_type": "code",
   "execution_count": 17,
   "metadata": {
    "scrolled": true
   },
   "outputs": [
    {
     "data": {
      "text/plain": [
       "[]"
      ]
     },
     "execution_count": 17,
     "metadata": {},
     "output_type": "execute_result"
    }
   ],
   "source": [
    "K.tensorflow_backend._get_available_gpus()"
   ]
  },
  {
   "cell_type": "code",
   "execution_count": 13,
   "metadata": {},
   "outputs": [
    {
     "name": "stdout",
     "output_type": "stream",
     "text": [
      "1.13.1\n"
     ]
    }
   ],
   "source": [
    "import tensorflow as tf\n",
    "print(tf.__version__)"
   ]
  },
  {
   "cell_type": "code",
   "execution_count": 14,
   "metadata": {},
   "outputs": [],
   "source": [
    "import tensorflow as tf\n",
    "sess = tf.Session(config=tf.ConfigProto(log_device_placement=True))"
   ]
  },
  {
   "cell_type": "code",
   "execution_count": 15,
   "metadata": {},
   "outputs": [
    {
     "name": "stdout",
     "output_type": "stream",
     "text": [
      "b'Hello World, TensorFlow!'\n"
     ]
    }
   ],
   "source": [
    "import tensorflow as tf\n",
    "\n",
    "hello = tf.constant(\"Hello World, TensorFlow!\")\n",
    "sess = tf.Session()\n",
    "print(sess.run(hello))"
   ]
  },
  {
   "cell_type": "code",
   "execution_count": 16,
   "metadata": {},
   "outputs": [
    {
     "name": "stdout",
     "output_type": "stream",
     "text": [
      "[name: \"/device:CPU:0\"\n",
      "device_type: \"CPU\"\n",
      "memory_limit: 268435456\n",
      "locality {\n",
      "}\n",
      "incarnation: 1835977634722452341\n",
      "]\n"
     ]
    }
   ],
   "source": [
    "from tensorflow.python.client import device_lib\n",
    "print(device_lib.list_local_devices())"
   ]
  },
  {
   "cell_type": "code",
   "execution_count": 1,
   "metadata": {},
   "outputs": [
    {
     "name": "stderr",
     "output_type": "stream",
     "text": [
      "'nvidia-smi' 不是內部或外部命令、可執行的程式或批次檔。\n"
     ]
    }
   ],
   "source": [
    "## 確認硬體資源 (如果你是在 Linux, 若是在 Windows, 請參考 https://blog.csdn.net/idwtwt/article/details/78017565)\n",
    "!nvidia-smi"
   ]
  },
  {
   "cell_type": "code",
   "execution_count": 2,
   "metadata": {},
   "outputs": [
    {
     "name": "stderr",
     "output_type": "stream",
     "text": [
      "Using TensorFlow backend.\n",
      "C:\\Users\\ian\\anaconda3\\lib\\site-packages\\tensorflow\\python\\framework\\dtypes.py:526: FutureWarning: Passing (type, 1) or '1type' as a synonym of type is deprecated; in a future version of numpy, it will be understood as (type, (1,)) / '(1,)type'.\n",
      "  _np_qint8 = np.dtype([(\"qint8\", np.int8, 1)])\n",
      "C:\\Users\\ian\\anaconda3\\lib\\site-packages\\tensorflow\\python\\framework\\dtypes.py:527: FutureWarning: Passing (type, 1) or '1type' as a synonym of type is deprecated; in a future version of numpy, it will be understood as (type, (1,)) / '(1,)type'.\n",
      "  _np_quint8 = np.dtype([(\"quint8\", np.uint8, 1)])\n",
      "C:\\Users\\ian\\anaconda3\\lib\\site-packages\\tensorflow\\python\\framework\\dtypes.py:528: FutureWarning: Passing (type, 1) or '1type' as a synonym of type is deprecated; in a future version of numpy, it will be understood as (type, (1,)) / '(1,)type'.\n",
      "  _np_qint16 = np.dtype([(\"qint16\", np.int16, 1)])\n",
      "C:\\Users\\ian\\anaconda3\\lib\\site-packages\\tensorflow\\python\\framework\\dtypes.py:529: FutureWarning: Passing (type, 1) or '1type' as a synonym of type is deprecated; in a future version of numpy, it will be understood as (type, (1,)) / '(1,)type'.\n",
      "  _np_quint16 = np.dtype([(\"quint16\", np.uint16, 1)])\n",
      "C:\\Users\\ian\\anaconda3\\lib\\site-packages\\tensorflow\\python\\framework\\dtypes.py:530: FutureWarning: Passing (type, 1) or '1type' as a synonym of type is deprecated; in a future version of numpy, it will be understood as (type, (1,)) / '(1,)type'.\n",
      "  _np_qint32 = np.dtype([(\"qint32\", np.int32, 1)])\n",
      "C:\\Users\\ian\\anaconda3\\lib\\site-packages\\tensorflow\\python\\framework\\dtypes.py:535: FutureWarning: Passing (type, 1) or '1type' as a synonym of type is deprecated; in a future version of numpy, it will be understood as (type, (1,)) / '(1,)type'.\n",
      "  np_resource = np.dtype([(\"resource\", np.ubyte, 1)])\n"
     ]
    }
   ],
   "source": [
    "import os\n",
    "import keras\n",
    "\n",
    "# 本範例不需使用 GPU, 將 GPU 設定為 \"無\"\n",
    "os.environ[\"CUDA_VISIBLE_DEVICES\"] = \"\""
   ]
  },
  {
   "cell_type": "code",
   "execution_count": 3,
   "metadata": {},
   "outputs": [],
   "source": [
    "# 從 Keras 的內建功能中，取得 train 與 test 資料集\n",
    "train, test = keras.datasets.cifar10.load_data()"
   ]
  },
  {
   "cell_type": "code",
   "execution_count": 4,
   "metadata": {},
   "outputs": [],
   "source": [
    "## 資料前處理\n",
    "def preproc_x(x, flatten=True):\n",
    "    x = x / 255.\n",
    "    if flatten:\n",
    "        x = x.reshape((len(x), -1))\n",
    "    return x\n",
    "\n",
    "def preproc_y(y, num_classes=10):\n",
    "    if y.shape[-1] == 1:\n",
    "        y = keras.utils.to_categorical(y, num_classes)\n",
    "    return y    "
   ]
  },
  {
   "cell_type": "code",
   "execution_count": 5,
   "metadata": {},
   "outputs": [],
   "source": [
    "x_train, y_train = train\n",
    "x_test, y_test = test\n",
    "\n",
    "# 資料前處理 - X 標準化\n",
    "x_train = preproc_x(x_train)\n",
    "x_test = preproc_x(x_test)\n",
    "\n",
    "# 資料前處理 -Y 轉成 onehot\n",
    "y_train = preproc_y(y_train)\n",
    "y_test = preproc_y(y_test)"
   ]
  },
  {
   "cell_type": "code",
   "execution_count": 6,
   "metadata": {},
   "outputs": [],
   "source": [
    "def build_mlp(input_shape, output_units=10, num_neurons=[512, 256, 128]):\n",
    "    input_layer = keras.layers.Input(input_shape)\n",
    "    \n",
    "    for i, n_units in enumerate(num_neurons):\n",
    "        if i == 0:\n",
    "            x = keras.layers.Dense(units=n_units, activation=\"relu\", name=\"hidden_layer\"+str(i+1))(input_layer)\n",
    "        else:\n",
    "            x = keras.layers.Dense(units=n_units, activation=\"relu\", name=\"hidden_layer\"+str(i+1))(x)\n",
    "    \n",
    "    out = keras.layers.Dense(units=output_units, activation=\"softmax\", name=\"output\")(x)\n",
    "    \n",
    "    model = keras.models.Model(inputs=[input_layer], outputs=[out])\n",
    "    return model"
   ]
  },
  {
   "cell_type": "code",
   "execution_count": 7,
   "metadata": {},
   "outputs": [
    {
     "name": "stdout",
     "output_type": "stream",
     "text": [
      "WARNING:tensorflow:From C:\\Users\\ian\\anaconda3\\lib\\site-packages\\tensorflow\\python\\ops\\resource_variable_ops.py:435: colocate_with (from tensorflow.python.framework.ops) is deprecated and will be removed in a future version.\n",
      "Instructions for updating:\n",
      "Colocations handled automatically by placer.\n",
      "Model: \"model_1\"\n",
      "_________________________________________________________________\n",
      "Layer (type)                 Output Shape              Param #   \n",
      "=================================================================\n",
      "input_1 (InputLayer)         (None, 3072)              0         \n",
      "_________________________________________________________________\n",
      "hidden_layer1 (Dense)        (None, 512)               1573376   \n",
      "_________________________________________________________________\n",
      "hidden_layer2 (Dense)        (None, 256)               131328    \n",
      "_________________________________________________________________\n",
      "hidden_layer3 (Dense)        (None, 128)               32896     \n",
      "_________________________________________________________________\n",
      "output (Dense)               (None, 10)                1290      \n",
      "=================================================================\n",
      "Total params: 1,738,890\n",
      "Trainable params: 1,738,890\n",
      "Non-trainable params: 0\n",
      "_________________________________________________________________\n"
     ]
    }
   ],
   "source": [
    "model = build_mlp(input_shape=x_train.shape[1:])\n",
    "model.summary()"
   ]
  },
  {
   "cell_type": "code",
   "execution_count": 8,
   "metadata": {},
   "outputs": [],
   "source": [
    "## 超參數設定\n",
    "LEARNING_RATE = 0.001\n",
    "EPOCHS = 100\n",
    "BATCH_SIZE = 256"
   ]
  },
  {
   "cell_type": "code",
   "execution_count": 9,
   "metadata": {},
   "outputs": [],
   "source": [
    "optimizer = keras.optimizers.Adam(lr=LEARNING_RATE)\n",
    "model.compile(loss=\"categorical_crossentropy\", metrics=[\"accuracy\"], optimizer=optimizer)"
   ]
  },
  {
   "cell_type": "code",
   "execution_count": 10,
   "metadata": {},
   "outputs": [
    {
     "name": "stdout",
     "output_type": "stream",
     "text": [
      "WARNING:tensorflow:From C:\\Users\\ian\\anaconda3\\lib\\site-packages\\tensorflow\\python\\ops\\math_ops.py:3066: to_int32 (from tensorflow.python.ops.math_ops) is deprecated and will be removed in a future version.\n",
      "Instructions for updating:\n",
      "Use tf.cast instead.\n",
      "Train on 50000 samples, validate on 10000 samples\n",
      "Epoch 1/100\n",
      "50000/50000 [==============================] - 9s 172us/step - loss: 1.9278 - accuracy: 0.3060 - val_loss: 1.8017 - val_accuracy: 0.3546\n",
      "Epoch 2/100\n",
      "50000/50000 [==============================] - 9s 171us/step - loss: 1.7083 - accuracy: 0.3877 - val_loss: 1.6828 - val_accuracy: 0.3980\n",
      "Epoch 3/100\n",
      "50000/50000 [==============================] - 9s 170us/step - loss: 1.6158 - accuracy: 0.4209 - val_loss: 1.6007 - val_accuracy: 0.4286\n",
      "Epoch 4/100\n",
      "50000/50000 [==============================] - 8s 167us/step - loss: 1.5448 - accuracy: 0.4501 - val_loss: 1.5208 - val_accuracy: 0.4595\n",
      "Epoch 5/100\n",
      "50000/50000 [==============================] - 8s 169us/step - loss: 1.4973 - accuracy: 0.4654 - val_loss: 1.4753 - val_accuracy: 0.4729\n",
      "Epoch 6/100\n",
      "50000/50000 [==============================] - 8s 166us/step - loss: 1.4628 - accuracy: 0.4805 - val_loss: 1.4754 - val_accuracy: 0.4677\n",
      "Epoch 7/100\n",
      "50000/50000 [==============================] - 8s 170us/step - loss: 1.4198 - accuracy: 0.4933 - val_loss: 1.4563 - val_accuracy: 0.4867\n",
      "Epoch 8/100\n",
      "50000/50000 [==============================] - 8s 167us/step - loss: 1.3953 - accuracy: 0.5019 - val_loss: 1.4253 - val_accuracy: 0.4927\n",
      "Epoch 9/100\n",
      "50000/50000 [==============================] - 9s 171us/step - loss: 1.3712 - accuracy: 0.5072 - val_loss: 1.4241 - val_accuracy: 0.4912\n",
      "Epoch 10/100\n",
      "50000/50000 [==============================] - 8s 167us/step - loss: 1.3359 - accuracy: 0.5234 - val_loss: 1.4165 - val_accuracy: 0.4923\n",
      "Epoch 11/100\n",
      "50000/50000 [==============================] - 9s 187us/step - loss: 1.3102 - accuracy: 0.5338 - val_loss: 1.4208 - val_accuracy: 0.4999\n",
      "Epoch 12/100\n",
      "50000/50000 [==============================] - 8s 167us/step - loss: 1.2848 - accuracy: 0.5403 - val_loss: 1.4620 - val_accuracy: 0.4803\n",
      "Epoch 13/100\n",
      "50000/50000 [==============================] - 9s 171us/step - loss: 1.2798 - accuracy: 0.5444 - val_loss: 1.4005 - val_accuracy: 0.5086\n",
      "Epoch 14/100\n",
      "50000/50000 [==============================] - 8s 170us/step - loss: 1.2389 - accuracy: 0.5571 - val_loss: 1.3758 - val_accuracy: 0.5157\n",
      "Epoch 15/100\n",
      "50000/50000 [==============================] - 9s 176us/step - loss: 1.2157 - accuracy: 0.5674 - val_loss: 1.4009 - val_accuracy: 0.5073\n",
      "Epoch 16/100\n",
      "50000/50000 [==============================] - 9s 184us/step - loss: 1.1985 - accuracy: 0.5723 - val_loss: 1.3841 - val_accuracy: 0.5126\n",
      "Epoch 17/100\n",
      "50000/50000 [==============================] - 8s 169us/step - loss: 1.1670 - accuracy: 0.5839 - val_loss: 1.3745 - val_accuracy: 0.5265\n",
      "Epoch 18/100\n",
      "50000/50000 [==============================] - 8s 169us/step - loss: 1.1543 - accuracy: 0.5871 - val_loss: 1.3960 - val_accuracy: 0.5076\n",
      "Epoch 19/100\n",
      "50000/50000 [==============================] - 9s 171us/step - loss: 1.1402 - accuracy: 0.5924 - val_loss: 1.3704 - val_accuracy: 0.5226\n",
      "Epoch 20/100\n",
      "50000/50000 [==============================] - 9s 183us/step - loss: 1.1176 - accuracy: 0.5982 - val_loss: 1.3849 - val_accuracy: 0.5202\n",
      "Epoch 21/100\n",
      "50000/50000 [==============================] - 8s 169us/step - loss: 1.0960 - accuracy: 0.6078 - val_loss: 1.3920 - val_accuracy: 0.5167\n",
      "Epoch 22/100\n",
      "50000/50000 [==============================] - 9s 171us/step - loss: 1.0711 - accuracy: 0.6168 - val_loss: 1.3920 - val_accuracy: 0.5213\n",
      "Epoch 23/100\n",
      "50000/50000 [==============================] - 9s 176us/step - loss: 1.0503 - accuracy: 0.6249 - val_loss: 1.3485 - val_accuracy: 0.5362\n",
      "Epoch 24/100\n",
      "50000/50000 [==============================] - 8s 167us/step - loss: 1.0336 - accuracy: 0.6314 - val_loss: 1.3864 - val_accuracy: 0.5253\n",
      "Epoch 25/100\n",
      "50000/50000 [==============================] - 8s 165us/step - loss: 1.0145 - accuracy: 0.6385 - val_loss: 1.3996 - val_accuracy: 0.5293\n",
      "Epoch 26/100\n",
      "50000/50000 [==============================] - 8s 167us/step - loss: 0.9999 - accuracy: 0.6426 - val_loss: 1.4097 - val_accuracy: 0.5243\n",
      "Epoch 27/100\n",
      "50000/50000 [==============================] - 8s 167us/step - loss: 0.9885 - accuracy: 0.6469 - val_loss: 1.3990 - val_accuracy: 0.5308\n",
      "Epoch 28/100\n",
      "50000/50000 [==============================] - 9s 171us/step - loss: 0.9710 - accuracy: 0.6542 - val_loss: 1.4243 - val_accuracy: 0.5290\n",
      "Epoch 29/100\n",
      "50000/50000 [==============================] - 8s 166us/step - loss: 0.9408 - accuracy: 0.6649 - val_loss: 1.4162 - val_accuracy: 0.5312\n",
      "Epoch 30/100\n",
      "50000/50000 [==============================] - 8s 170us/step - loss: 0.9293 - accuracy: 0.6684 - val_loss: 1.4628 - val_accuracy: 0.5196\n",
      "Epoch 31/100\n",
      "50000/50000 [==============================] - 9s 174us/step - loss: 0.9091 - accuracy: 0.6751 - val_loss: 1.4678 - val_accuracy: 0.5314\n",
      "Epoch 32/100\n",
      "50000/50000 [==============================] - 9s 172us/step - loss: 0.8972 - accuracy: 0.6791 - val_loss: 1.4531 - val_accuracy: 0.5268\n",
      "Epoch 33/100\n",
      "50000/50000 [==============================] - 9s 176us/step - loss: 0.8690 - accuracy: 0.6883 - val_loss: 1.4957 - val_accuracy: 0.5276\n",
      "Epoch 34/100\n",
      "50000/50000 [==============================] - 9s 182us/step - loss: 0.8568 - accuracy: 0.6937 - val_loss: 1.5114 - val_accuracy: 0.5239\n",
      "Epoch 35/100\n",
      "50000/50000 [==============================] - 9s 172us/step - loss: 0.8506 - accuracy: 0.6952 - val_loss: 1.5067 - val_accuracy: 0.5192\n",
      "Epoch 36/100\n",
      "50000/50000 [==============================] - 8s 165us/step - loss: 0.8203 - accuracy: 0.7071 - val_loss: 1.5216 - val_accuracy: 0.5284\n",
      "Epoch 37/100\n",
      "50000/50000 [==============================] - 8s 168us/step - loss: 0.8137 - accuracy: 0.7090 - val_loss: 1.5625 - val_accuracy: 0.5222\n",
      "Epoch 38/100\n",
      "50000/50000 [==============================] - 8s 166us/step - loss: 0.7915 - accuracy: 0.7177 - val_loss: 1.5607 - val_accuracy: 0.5253\n",
      "Epoch 39/100\n",
      "50000/50000 [==============================] - 9s 171us/step - loss: 0.7748 - accuracy: 0.7240 - val_loss: 1.5813 - val_accuracy: 0.5226\n",
      "Epoch 40/100\n",
      "50000/50000 [==============================] - 9s 172us/step - loss: 0.7650 - accuracy: 0.7263 - val_loss: 1.6023 - val_accuracy: 0.5174\n",
      "Epoch 41/100\n",
      "50000/50000 [==============================] - 9s 188us/step - loss: 0.7452 - accuracy: 0.7318 - val_loss: 1.6486 - val_accuracy: 0.5205\n",
      "Epoch 42/100\n",
      "50000/50000 [==============================] - 8s 168us/step - loss: 0.7409 - accuracy: 0.7333 - val_loss: 1.6522 - val_accuracy: 0.5190\n",
      "Epoch 43/100\n",
      "50000/50000 [==============================] - 8s 168us/step - loss: 0.7115 - accuracy: 0.7464 - val_loss: 1.6802 - val_accuracy: 0.5219\n",
      "Epoch 44/100\n",
      "50000/50000 [==============================] - 8s 169us/step - loss: 0.6880 - accuracy: 0.7544 - val_loss: 1.6809 - val_accuracy: 0.5155\n",
      "Epoch 45/100\n",
      "50000/50000 [==============================] - 8s 169us/step - loss: 0.6797 - accuracy: 0.7570 - val_loss: 1.7194 - val_accuracy: 0.5179\n",
      "Epoch 46/100\n",
      "50000/50000 [==============================] - 8s 169us/step - loss: 0.6692 - accuracy: 0.7600 - val_loss: 1.7699 - val_accuracy: 0.5089\n",
      "Epoch 47/100\n",
      "50000/50000 [==============================] - 8s 167us/step - loss: 0.6576 - accuracy: 0.7626 - val_loss: 1.7755 - val_accuracy: 0.5181\n",
      "Epoch 48/100\n",
      "50000/50000 [==============================] - 8s 169us/step - loss: 0.6473 - accuracy: 0.7692 - val_loss: 1.7708 - val_accuracy: 0.5165\n",
      "Epoch 49/100\n",
      "50000/50000 [==============================] - 9s 171us/step - loss: 0.6305 - accuracy: 0.7741 - val_loss: 1.8083 - val_accuracy: 0.5220\n",
      "Epoch 50/100\n",
      "50000/50000 [==============================] - 9s 173us/step - loss: 0.6138 - accuracy: 0.7804 - val_loss: 1.8610 - val_accuracy: 0.5157\n",
      "Epoch 51/100\n",
      "50000/50000 [==============================] - 8s 167us/step - loss: 0.5989 - accuracy: 0.7841 - val_loss: 1.8565 - val_accuracy: 0.5231\n",
      "Epoch 52/100\n",
      "50000/50000 [==============================] - 9s 173us/step - loss: 0.6023 - accuracy: 0.7855 - val_loss: 1.9261 - val_accuracy: 0.5122\n",
      "Epoch 53/100\n",
      "50000/50000 [==============================] - 8s 167us/step - loss: 0.5876 - accuracy: 0.7888 - val_loss: 1.9350 - val_accuracy: 0.5086\n",
      "Epoch 54/100\n",
      "50000/50000 [==============================] - 8s 168us/step - loss: 0.5576 - accuracy: 0.8024 - val_loss: 1.9253 - val_accuracy: 0.5147\n",
      "Epoch 55/100\n",
      "50000/50000 [==============================] - 8s 168us/step - loss: 0.5734 - accuracy: 0.7931 - val_loss: 1.9754 - val_accuracy: 0.5113\n",
      "Epoch 56/100\n",
      "50000/50000 [==============================] - 8s 169us/step - loss: 0.5541 - accuracy: 0.8021 - val_loss: 2.0587 - val_accuracy: 0.5110\n",
      "Epoch 57/100\n",
      "50000/50000 [==============================] - 8s 165us/step - loss: 0.5379 - accuracy: 0.8056 - val_loss: 1.9873 - val_accuracy: 0.5141\n",
      "Epoch 58/100\n",
      "50000/50000 [==============================] - 8s 170us/step - loss: 0.5307 - accuracy: 0.8103 - val_loss: 2.0606 - val_accuracy: 0.5180\n",
      "Epoch 59/100\n",
      "50000/50000 [==============================] - 9s 170us/step - loss: 0.5141 - accuracy: 0.8176 - val_loss: 2.0882 - val_accuracy: 0.5114\n",
      "Epoch 60/100\n",
      "50000/50000 [==============================] - 9s 178us/step - loss: 0.5101 - accuracy: 0.8187 - val_loss: 2.0949 - val_accuracy: 0.5047\n",
      "Epoch 61/100\n",
      "50000/50000 [==============================] - 9s 173us/step - loss: 0.4964 - accuracy: 0.8230 - val_loss: 2.1427 - val_accuracy: 0.5095\n",
      "Epoch 62/100\n",
      "50000/50000 [==============================] - 8s 169us/step - loss: 0.4826 - accuracy: 0.8279 - val_loss: 2.1773 - val_accuracy: 0.5077\n",
      "Epoch 63/100\n",
      "50000/50000 [==============================] - 9s 174us/step - loss: 0.4868 - accuracy: 0.8250 - val_loss: 2.2368 - val_accuracy: 0.5040\n",
      "Epoch 64/100\n",
      "50000/50000 [==============================] - 9s 173us/step - loss: 0.4822 - accuracy: 0.8265 - val_loss: 2.2778 - val_accuracy: 0.5016\n",
      "Epoch 65/100\n",
      "50000/50000 [==============================] - 8s 169us/step - loss: 0.4821 - accuracy: 0.8281 - val_loss: 2.2352 - val_accuracy: 0.5166\n",
      "Epoch 66/100\n",
      "50000/50000 [==============================] - 8s 166us/step - loss: 0.4479 - accuracy: 0.8392 - val_loss: 2.3495 - val_accuracy: 0.5088\n",
      "Epoch 67/100\n",
      "50000/50000 [==============================] - 8s 169us/step - loss: 0.4502 - accuracy: 0.8397 - val_loss: 2.2800 - val_accuracy: 0.5125\n",
      "Epoch 68/100\n",
      "50000/50000 [==============================] - 8s 168us/step - loss: 0.4422 - accuracy: 0.8401 - val_loss: 2.3476 - val_accuracy: 0.5090\n",
      "Epoch 69/100\n",
      "50000/50000 [==============================] - 9s 170us/step - loss: 0.4258 - accuracy: 0.8455 - val_loss: 2.3895 - val_accuracy: 0.4994\n",
      "Epoch 70/100\n",
      "50000/50000 [==============================] - 8s 170us/step - loss: 0.4282 - accuracy: 0.8466 - val_loss: 2.3501 - val_accuracy: 0.5093\n",
      "Epoch 71/100\n",
      "50000/50000 [==============================] - 8s 169us/step - loss: 0.4221 - accuracy: 0.8481 - val_loss: 2.3335 - val_accuracy: 0.5116\n",
      "Epoch 72/100\n",
      "50000/50000 [==============================] - 8s 167us/step - loss: 0.4049 - accuracy: 0.8549 - val_loss: 2.4322 - val_accuracy: 0.5084\n",
      "Epoch 73/100\n",
      "50000/50000 [==============================] - 8s 169us/step - loss: 0.4023 - accuracy: 0.8564 - val_loss: 2.5012 - val_accuracy: 0.5124\n",
      "Epoch 74/100\n",
      "50000/50000 [==============================] - 8s 167us/step - loss: 0.4009 - accuracy: 0.8551 - val_loss: 2.5524 - val_accuracy: 0.5042\n",
      "Epoch 75/100\n",
      "50000/50000 [==============================] - 8s 170us/step - loss: 0.3951 - accuracy: 0.8566 - val_loss: 2.5243 - val_accuracy: 0.5144\n",
      "Epoch 76/100\n",
      "50000/50000 [==============================] - 8s 168us/step - loss: 0.3743 - accuracy: 0.8645 - val_loss: 2.6623 - val_accuracy: 0.5043\n",
      "Epoch 77/100\n",
      "50000/50000 [==============================] - 9s 188us/step - loss: 0.3764 - accuracy: 0.8655 - val_loss: 2.6463 - val_accuracy: 0.4975\n",
      "Epoch 78/100\n",
      "50000/50000 [==============================] - 9s 171us/step - loss: 0.3957 - accuracy: 0.8566 - val_loss: 2.6048 - val_accuracy: 0.5057\n",
      "Epoch 79/100\n",
      "50000/50000 [==============================] - 9s 171us/step - loss: 0.3636 - accuracy: 0.8704 - val_loss: 2.6088 - val_accuracy: 0.5079\n",
      "Epoch 80/100\n",
      "50000/50000 [==============================] - 9s 174us/step - loss: 0.3530 - accuracy: 0.8727 - val_loss: 2.7004 - val_accuracy: 0.5102\n",
      "Epoch 81/100\n",
      "50000/50000 [==============================] - 8s 167us/step - loss: 0.3511 - accuracy: 0.8743 - val_loss: 2.7220 - val_accuracy: 0.5029\n",
      "Epoch 82/100\n",
      "50000/50000 [==============================] - 9s 172us/step - loss: 0.3562 - accuracy: 0.8716 - val_loss: 2.7210 - val_accuracy: 0.5013\n",
      "Epoch 83/100\n",
      "50000/50000 [==============================] - 9s 170us/step - loss: 0.3405 - accuracy: 0.8773 - val_loss: 2.7475 - val_accuracy: 0.5060\n",
      "Epoch 84/100\n",
      "50000/50000 [==============================] - 9s 171us/step - loss: 0.3529 - accuracy: 0.8732 - val_loss: 2.7266 - val_accuracy: 0.5049\n",
      "Epoch 85/100\n",
      "50000/50000 [==============================] - 8s 167us/step - loss: 0.3323 - accuracy: 0.8812 - val_loss: 2.8231 - val_accuracy: 0.5044\n",
      "Epoch 86/100\n",
      "50000/50000 [==============================] - 8s 169us/step - loss: 0.3415 - accuracy: 0.8774 - val_loss: 2.8359 - val_accuracy: 0.5030\n",
      "Epoch 87/100\n",
      "50000/50000 [==============================] - 8s 170us/step - loss: 0.3483 - accuracy: 0.8757 - val_loss: 2.7807 - val_accuracy: 0.5058\n",
      "Epoch 88/100\n",
      "50000/50000 [==============================] - 8s 169us/step - loss: 0.3186 - accuracy: 0.8861 - val_loss: 2.9046 - val_accuracy: 0.4994\n",
      "Epoch 89/100\n",
      "50000/50000 [==============================] - 8s 167us/step - loss: 0.2998 - accuracy: 0.8930 - val_loss: 2.8884 - val_accuracy: 0.5021\n",
      "Epoch 90/100\n",
      "50000/50000 [==============================] - 8s 169us/step - loss: 0.3211 - accuracy: 0.8838 - val_loss: 2.9893 - val_accuracy: 0.4997\n",
      "Epoch 91/100\n",
      "50000/50000 [==============================] - 8s 169us/step - loss: 0.3016 - accuracy: 0.8922 - val_loss: 2.9261 - val_accuracy: 0.5026\n",
      "Epoch 92/100\n",
      "50000/50000 [==============================] - 8s 169us/step - loss: 0.2979 - accuracy: 0.8923 - val_loss: 3.0590 - val_accuracy: 0.4991\n",
      "Epoch 93/100\n",
      "50000/50000 [==============================] - 8s 168us/step - loss: 0.3147 - accuracy: 0.8874 - val_loss: 3.0088 - val_accuracy: 0.5061\n",
      "Epoch 94/100\n",
      "50000/50000 [==============================] - 8s 170us/step - loss: 0.3092 - accuracy: 0.8882 - val_loss: 3.0494 - val_accuracy: 0.5076\n",
      "Epoch 95/100\n",
      "50000/50000 [==============================] - 9s 170us/step - loss: 0.2775 - accuracy: 0.8996 - val_loss: 3.1223 - val_accuracy: 0.4974\n",
      "Epoch 96/100\n",
      "50000/50000 [==============================] - 8s 168us/step - loss: 0.3135 - accuracy: 0.8863 - val_loss: 2.9707 - val_accuracy: 0.5074\n",
      "Epoch 97/100\n",
      "50000/50000 [==============================] - 8s 170us/step - loss: 0.2662 - accuracy: 0.9042 - val_loss: 3.0751 - val_accuracy: 0.4998\n",
      "Epoch 98/100\n",
      "50000/50000 [==============================] - 8s 168us/step - loss: 0.2648 - accuracy: 0.9066 - val_loss: 3.1743 - val_accuracy: 0.4975\n",
      "Epoch 99/100\n",
      "50000/50000 [==============================] - 9s 174us/step - loss: 0.2927 - accuracy: 0.8939 - val_loss: 3.0928 - val_accuracy: 0.4965\n",
      "Epoch 100/100\n",
      "50000/50000 [==============================] - 9s 175us/step - loss: 0.2925 - accuracy: 0.8938 - val_loss: 3.1194 - val_accuracy: 0.5043\n"
     ]
    },
    {
     "data": {
      "text/plain": [
       "<keras.callbacks.callbacks.History at 0x17897e08>"
      ]
     },
     "execution_count": 10,
     "metadata": {},
     "output_type": "execute_result"
    }
   ],
   "source": [
    "model.fit(x_train, y_train, \n",
    "          epochs=EPOCHS, \n",
    "          batch_size=BATCH_SIZE, \n",
    "          validation_data=(x_test, y_test), \n",
    "          shuffle=True)"
   ]
  },
  {
   "cell_type": "code",
   "execution_count": 12,
   "metadata": {},
   "outputs": [
    {
     "data": {
      "image/png": "[encoded data removed]",
      "text/plain": [
       "<Figure size 432x288 with 1 Axes>"
      ]
     },
     "metadata": {
      "needs_background": "light"
     },
     "output_type": "display_data"
    },
    {
     "data": {
      "image/png": "[encoded data removed]",
      "text/plain": [
       "<Figure size 432x288 with 1 Axes>"
      ]
     },
     "metadata": {
      "needs_background": "light"
     },
     "output_type": "display_data"
    }
   ],
   "source": [
    "# 訓練模型並檢視驗證集的結果\n",
    "import matplotlib.pyplot as plt\n",
    "\n",
    "train_loss = model.history.history[\"loss\"]\n",
    "valid_loss = model.history.history[\"val_loss\"]\n",
    "\n",
    "train_acc = model.history.history[\"accuracy\"]\n",
    "valid_acc = model.history.history[\"val_accuracy\"]\n",
    "\n",
    "plt.plot(range(len(train_loss)), train_loss, label=\"train loss\")\n",
    "plt.plot(range(len(valid_loss)), valid_loss, label=\"valid loss\")\n",
    "plt.legend()\n",
    "plt.title(\"Loss\")\n",
    "plt.show()\n",
    "\n",
    "plt.plot(range(len(train_acc)), train_acc, label=\"train accuracy\")\n",
    "plt.plot(range(len(valid_acc)), valid_acc, label=\"valid accuracy\")\n",
    "plt.legend()\n",
    "plt.title(\"Accuracy\")\n",
    "plt.show()"
   ]
  },
  {
   "cell_type": "markdown",
   "metadata": {},
   "source": [
    "## Work\n",
    "1. 請嘗試將 preproc_x 替換成以每筆資料的 min/max 進行標準化至 -1 ~ 1 間，再進行訓練\n",
    "2. 請嘗試將 mlp 疊更深 (e.g 5~10 層)，進行訓練後觀察 learning curve 的走勢\n",
    "3. (optional) 請改用 GPU 進行訓練 (如果你有 GPU 的話)，比較使用 CPU 與 GPU 的訓練速度"
   ]
  }
 ],
 "metadata": {
  "kernelspec": {
   "display_name": "Python 3",
   "language": "python",
   "name": "python3"
  },
  "language_info": {
   "codemirror_mode": {
    "name": "ipython",
    "version": 3
   },
   "file_extension": ".py",
   "mimetype": "text/x-python",
   "name": "python",
   "nbconvert_exporter": "python",
   "pygments_lexer": "ipython3",
   "version": "3.7.6"
  }
 },
 "nbformat": 4,
 "nbformat_minor": 2
}
