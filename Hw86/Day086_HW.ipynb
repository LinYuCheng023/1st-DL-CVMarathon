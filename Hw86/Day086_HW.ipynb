{
 "cells": [
  {
   "cell_type": "markdown",
   "metadata": {},
   "source": [
    "## Work\n",
    "1. 試比較 save_best_only 與否的差異\n",
    "2. 請僅存入將 save_weights_only 設定為 True, 並嘗試 reset ipynb 並將模型與權重重新建回並預測 x_test"
   ]
  },
  {
   "cell_type": "code",
   "execution_count": 2,
   "metadata": {},
   "outputs": [
    {
     "name": "stderr",
     "output_type": "stream",
     "text": [
      "Using TensorFlow backend.\n",
      "C:\\Users\\ian\\anaconda3\\lib\\site-packages\\tensorflow\\python\\framework\\dtypes.py:526: FutureWarning: Passing (type, 1) or '1type' as a synonym of type is deprecated; in a future version of numpy, it will be understood as (type, (1,)) / '(1,)type'.\n",
      "  _np_qint8 = np.dtype([(\"qint8\", np.int8, 1)])\n",
      "C:\\Users\\ian\\anaconda3\\lib\\site-packages\\tensorflow\\python\\framework\\dtypes.py:527: FutureWarning: Passing (type, 1) or '1type' as a synonym of type is deprecated; in a future version of numpy, it will be understood as (type, (1,)) / '(1,)type'.\n",
      "  _np_quint8 = np.dtype([(\"quint8\", np.uint8, 1)])\n",
      "C:\\Users\\ian\\anaconda3\\lib\\site-packages\\tensorflow\\python\\framework\\dtypes.py:528: FutureWarning: Passing (type, 1) or '1type' as a synonym of type is deprecated; in a future version of numpy, it will be understood as (type, (1,)) / '(1,)type'.\n",
      "  _np_qint16 = np.dtype([(\"qint16\", np.int16, 1)])\n",
      "C:\\Users\\ian\\anaconda3\\lib\\site-packages\\tensorflow\\python\\framework\\dtypes.py:529: FutureWarning: Passing (type, 1) or '1type' as a synonym of type is deprecated; in a future version of numpy, it will be understood as (type, (1,)) / '(1,)type'.\n",
      "  _np_quint16 = np.dtype([(\"quint16\", np.uint16, 1)])\n",
      "C:\\Users\\ian\\anaconda3\\lib\\site-packages\\tensorflow\\python\\framework\\dtypes.py:530: FutureWarning: Passing (type, 1) or '1type' as a synonym of type is deprecated; in a future version of numpy, it will be understood as (type, (1,)) / '(1,)type'.\n",
      "  _np_qint32 = np.dtype([(\"qint32\", np.int32, 1)])\n",
      "C:\\Users\\ian\\anaconda3\\lib\\site-packages\\tensorflow\\python\\framework\\dtypes.py:535: FutureWarning: Passing (type, 1) or '1type' as a synonym of type is deprecated; in a future version of numpy, it will be understood as (type, (1,)) / '(1,)type'.\n",
      "  np_resource = np.dtype([(\"resource\", np.ubyte, 1)])\n"
     ]
    }
   ],
   "source": [
    "import os\n",
    "import keras\n",
    "\n",
    "# Disable GPU\n",
    "os.environ[\"CUDA_VISIBLE_DEVICES\"] = \"\""
   ]
  },
  {
   "cell_type": "code",
   "execution_count": 4,
   "metadata": {},
   "outputs": [],
   "source": [
    "train, test = keras.datasets.cifar10.load_data()"
   ]
  },
  {
   "cell_type": "code",
   "execution_count": 5,
   "metadata": {},
   "outputs": [],
   "source": [
    "## 資料前處理\n",
    "def preproc_x(x, flatten=True):\n",
    "    x = x / 255.\n",
    "    if flatten:\n",
    "        x = x.reshape((len(x), -1))\n",
    "    return x\n",
    "\n",
    "def preproc_y(y, num_classes=10):\n",
    "    if y.shape[-1] == 1:\n",
    "        y = keras.utils.to_categorical(y, num_classes)\n",
    "    return y    "
   ]
  },
  {
   "cell_type": "code",
   "execution_count": 6,
   "metadata": {},
   "outputs": [],
   "source": [
    "x_train, y_train = train\n",
    "x_test, y_test = test\n",
    "\n",
    "# Preproc the inputs\n",
    "x_train = preproc_x(x_train)\n",
    "x_test = preproc_x(x_test)\n",
    "\n",
    "# Preprc the outputs\n",
    "y_train = preproc_y(y_train)\n",
    "y_test = preproc_y(y_test)"
   ]
  },
  {
   "cell_type": "code",
   "execution_count": 5,
   "metadata": {},
   "outputs": [],
   "source": [
    "from keras.layers import BatchNormalization\n",
    "\n",
    "def build_mlp(input_shape, output_units=10, num_neurons=[512, 256, 128]):\n",
    "    \"\"\"Code Here\n",
    "    建立你的神經網路\n",
    "    \"\"\"\n",
    "    input_layer = keras.layers.Input(input_shape)\n",
    "    \n",
    "    for i, units in enumerate(num_neurons):\n",
    "        if i==0:\n",
    "            x = keras.layers.Dense(units=units, activation='relu', name='hidden_layer'+str(i))(input_layer)\n",
    "            x = BatchNormalization()(x)\n",
    "        else:\n",
    "            x = keras.layers.Dense(units=units, activation='relu', name='hidden_layer'+str(i))(x)\n",
    "            x = BatchNormalization()(x)\n",
    "    out = keras.layers.Dense(units=output_units, activation='softmax', name='output_layer')(x)\n",
    "    model = keras.models.Model(inputs=[input_layer], outputs=[out])\n",
    "    return model"
   ]
  },
  {
   "cell_type": "code",
   "execution_count": 6,
   "metadata": {},
   "outputs": [],
   "source": [
    "\"\"\"Code Here\n",
    "設定超參數\n",
    "\"\"\"\n",
    "LEARNING_RATE=1e-3\n",
    "EPOCHS=50\n",
    "BATCH_SIZE=1024\n",
    "MOMENTUM=0.95"
   ]
  },
  {
   "cell_type": "code",
   "execution_count": 13,
   "metadata": {},
   "outputs": [
    {
     "name": "stdout",
     "output_type": "stream",
     "text": [
      "Model: \"model_4\"\n",
      "_________________________________________________________________\n",
      "Layer (type)                 Output Shape              Param #   \n",
      "=================================================================\n",
      "input_4 (InputLayer)         (None, 3072)              0         \n",
      "_________________________________________________________________\n",
      "hidden_layer0 (Dense)        (None, 512)               1573376   \n",
      "_________________________________________________________________\n",
      "batch_normalization_10 (Batc (None, 512)               2048      \n",
      "_________________________________________________________________\n",
      "hidden_layer1 (Dense)        (None, 256)               131328    \n",
      "_________________________________________________________________\n",
      "batch_normalization_11 (Batc (None, 256)               1024      \n",
      "_________________________________________________________________\n",
      "hidden_layer2 (Dense)        (None, 128)               32896     \n",
      "_________________________________________________________________\n",
      "batch_normalization_12 (Batc (None, 128)               512       \n",
      "_________________________________________________________________\n",
      "output_layer (Dense)         (None, 10)                1290      \n",
      "=================================================================\n",
      "Total params: 1,742,474\n",
      "Trainable params: 1,740,682\n",
      "Non-trainable params: 1,792\n",
      "_________________________________________________________________\n",
      "Train on 50000 samples, validate on 10000 samples\n",
      "Epoch 1/50\n",
      "50000/50000 [==============================] - 9s 186us/step - loss: 2.2207 - acc: 0.2720 - val_loss: 2.0946 - val_acc: 0.2508\n",
      "Epoch 2/50\n",
      "50000/50000 [==============================] - 9s 175us/step - loss: 1.7447 - acc: 0.3977 - val_loss: 1.9532 - val_acc: 0.3122\n",
      "Epoch 3/50\n",
      "50000/50000 [==============================] - 9s 174us/step - loss: 1.6188 - acc: 0.4369 - val_loss: 1.8305 - val_acc: 0.3687\n",
      "Epoch 4/50\n",
      "50000/50000 [==============================] - 9s 183us/step - loss: 1.5428 - acc: 0.4623 - val_loss: 1.7251 - val_acc: 0.40829 - acc: 0.\n",
      "Epoch 5/50\n",
      "50000/50000 [==============================] - 8s 160us/step - loss: 1.4881 - acc: 0.4814 - val_loss: 1.6474 - val_acc: 0.4311\n",
      "Epoch 6/50\n",
      "50000/50000 [==============================] - 9s 176us/step - loss: 1.4419 - acc: 0.4973 - val_loss: 1.5807 - val_acc: 0.4490\n",
      "Epoch 7/50\n",
      "50000/50000 [==============================] - 8s 169us/step - loss: 1.4037 - acc: 0.5116 - val_loss: 1.5469 - val_acc: 0.4586\n",
      "Epoch 8/50\n",
      "50000/50000 [==============================] - 8s 166us/step - loss: 1.3686 - acc: 0.5244 - val_loss: 1.5231 - val_acc: 0.4643\n",
      "Epoch 9/50\n",
      "50000/50000 [==============================] - 8s 154us/step - loss: 1.3362 - acc: 0.5364 - val_loss: 1.5090 - val_acc: 0.4713\n",
      "Epoch 10/50\n",
      "50000/50000 [==============================] - 9s 178us/step - loss: 1.3051 - acc: 0.5492 - val_loss: 1.4922 - val_acc: 0.4725\n",
      "Epoch 11/50\n",
      "50000/50000 [==============================] - 8s 163us/step - loss: 1.2771 - acc: 0.5589 - val_loss: 1.4773 - val_acc: 0.4856\n",
      "Epoch 12/50\n",
      "50000/50000 [==============================] - 9s 174us/step - loss: 1.2498 - acc: 0.5692 - val_loss: 1.4752 - val_acc: 0.4841\n",
      "Epoch 13/50\n",
      "50000/50000 [==============================] - 9s 172us/step - loss: 1.2251 - acc: 0.5771 - val_loss: 1.4727 - val_acc: 0.4893\n",
      "Epoch 14/50\n",
      "50000/50000 [==============================] - 9s 183us/step - loss: 1.1996 - acc: 0.5861 - val_loss: 1.4706 - val_acc: 0.4940\n",
      "Epoch 15/50\n",
      "50000/50000 [==============================] - 9s 187us/step - loss: 1.1749 - acc: 0.5985 - val_loss: 1.4593 - val_acc: 0.4921\n",
      "Epoch 16/50\n",
      "50000/50000 [==============================] - 9s 187us/step - loss: 1.1527 - acc: 0.6052 - val_loss: 1.4633 - val_acc: 0.4924\n",
      "Epoch 17/50\n",
      "50000/50000 [==============================] - 9s 171us/step - loss: 1.1282 - acc: 0.6137 - val_loss: 1.4618 - val_acc: 0.4840\n",
      "Epoch 18/50\n",
      "50000/50000 [==============================] - 8s 152us/step - loss: 1.1078 - acc: 0.6218 - val_loss: 1.4613 - val_acc: 0.4962\n",
      "Epoch 19/50\n",
      "50000/50000 [==============================] - 8s 153us/step - loss: 1.0835 - acc: 0.6312 - val_loss: 1.4645 - val_acc: 0.4954\n",
      "Epoch 20/50\n",
      "50000/50000 [==============================] - 7s 149us/step - loss: 1.0632 - acc: 0.6385 - val_loss: 1.4652 - val_acc: 0.4936\n",
      "Epoch 21/50\n",
      "50000/50000 [==============================] - 7s 149us/step - loss: 1.0411 - acc: 0.6483 - val_loss: 1.4607 - val_acc: 0.4983\n",
      "Epoch 22/50\n",
      "50000/50000 [==============================] - 8s 160us/step - loss: 1.0187 - acc: 0.6556 - val_loss: 1.4576 - val_acc: 0.4972\n",
      "Epoch 23/50\n",
      "50000/50000 [==============================] - 10s 199us/step - loss: 0.9992 - acc: 0.6645 - val_loss: 1.4561 - val_acc: 0.5015\n",
      "Epoch 24/50\n",
      "50000/50000 [==============================] - 8s 170us/step - loss: 0.9792 - acc: 0.6717 - val_loss: 1.4643 - val_acc: 0.4972\n",
      "Epoch 25/50\n",
      "50000/50000 [==============================] - 8s 164us/step - loss: 0.9572 - acc: 0.6801 - val_loss: 1.4743 - val_acc: 0.5000\n",
      "Epoch 26/50\n",
      "50000/50000 [==============================] - 9s 175us/step - loss: 0.9349 - acc: 0.6886 - val_loss: 1.4666 - val_acc: 0.4982\n",
      "Epoch 27/50\n",
      "50000/50000 [==============================] - 8s 169us/step - loss: 0.9158 - acc: 0.6959 - val_loss: 1.4693 - val_acc: 0.5010\n",
      "Epoch 28/50\n",
      "50000/50000 [==============================] - 8s 164us/step - loss: 0.8960 - acc: 0.7040 - val_loss: 1.4738 - val_acc: 0.5016\n",
      "Epoch 29/50\n",
      "50000/50000 [==============================] - 8s 167us/step - loss: 0.8758 - acc: 0.7120 - val_loss: 1.4927 - val_acc: 0.4950\n",
      "Epoch 30/50\n",
      "50000/50000 [==============================] - 8s 150us/step - loss: 0.8567 - acc: 0.7195 - val_loss: 1.4932 - val_acc: 0.5017\n",
      "Epoch 31/50\n",
      "50000/50000 [==============================] - 8s 154us/step - loss: 0.8383 - acc: 0.7258 - val_loss: 1.5017 - val_acc: 0.4954\n",
      "Epoch 32/50\n",
      "50000/50000 [==============================] - 7s 147us/step - loss: 0.8166 - acc: 0.7364 - val_loss: 1.5029 - val_acc: 0.5009\n",
      "Epoch 33/50\n",
      "50000/50000 [==============================] - 9s 173us/step - loss: 0.7983 - acc: 0.7429 - val_loss: 1.5046 - val_acc: 0.5013\n",
      "Epoch 34/50\n",
      "50000/50000 [==============================] - 8s 162us/step - loss: 0.7788 - acc: 0.7503 - val_loss: 1.5025 - val_acc: 0.5015\n",
      "Epoch 35/50\n",
      "50000/50000 [==============================] - 9s 179us/step - loss: 0.7590 - acc: 0.7576 - val_loss: 1.5161 - val_acc: 0.4949\n",
      "Epoch 36/50\n",
      "50000/50000 [==============================] - 9s 174us/step - loss: 0.7386 - acc: 0.7667 - val_loss: 1.5234 - val_acc: 0.5025\n",
      "Epoch 37/50\n",
      "50000/50000 [==============================] - 8s 163us/step - loss: 0.7212 - acc: 0.7725 - val_loss: 1.5461 - val_acc: 0.5001\n",
      "Epoch 38/50\n",
      "50000/50000 [==============================] - 8s 168us/step - loss: 0.7026 - acc: 0.7790 - val_loss: 1.5659 - val_acc: 0.4989\n",
      "Epoch 39/50\n",
      "50000/50000 [==============================] - 8s 169us/step - loss: 0.6845 - acc: 0.7870 - val_loss: 1.5468 - val_acc: 0.4995\n",
      "Epoch 40/50\n",
      "50000/50000 [==============================] - 8s 161us/step - loss: 0.6651 - acc: 0.7953 - val_loss: 1.5683 - val_acc: 0.4968\n",
      "Epoch 41/50\n",
      "50000/50000 [==============================] - 8s 164us/step - loss: 0.6493 - acc: 0.7995 - val_loss: 1.5786 - val_acc: 0.4981\n",
      "Epoch 42/50\n",
      "50000/50000 [==============================] - 8s 164us/step - loss: 0.6296 - acc: 0.8079 - val_loss: 1.6094 - val_acc: 0.4925\n",
      "Epoch 43/50\n",
      "50000/50000 [==============================] - 9s 176us/step - loss: 0.6136 - acc: 0.8149 - val_loss: 1.6028 - val_acc: 0.4936\n",
      "Epoch 44/50\n",
      "50000/50000 [==============================] - 8s 166us/step - loss: 0.5924 - acc: 0.8230 - val_loss: 1.6023 - val_acc: 0.4919\n",
      "Epoch 45/50\n",
      "50000/50000 [==============================] - 8s 162us/step - loss: 0.5746 - acc: 0.8314 - val_loss: 1.6264 - val_acc: 0.4964\n",
      "Epoch 46/50\n",
      "50000/50000 [==============================] - 8s 158us/step - loss: 0.5597 - acc: 0.8361 - val_loss: 1.6397 - val_acc: 0.4899\n",
      "Epoch 47/50\n",
      "50000/50000 [==============================] - 9s 175us/step - loss: 0.5436 - acc: 0.8421 - val_loss: 1.6470 - val_acc: 0.4906\n",
      "Epoch 48/50\n",
      "50000/50000 [==============================] - 8s 163us/step - loss: 0.5240 - acc: 0.8522 - val_loss: 1.6455 - val_acc: 0.4898\n",
      "Epoch 49/50\n",
      "50000/50000 [==============================] - 8s 160us/step - loss: 0.5100 - acc: 0.8553 - val_loss: 1.6720 - val_acc: 0.4873\n",
      "Epoch 50/50\n",
      "50000/50000 [==============================] - 8s 161us/step - loss: 0.4927 - acc: 0.8643 - val_loss: 1.7028 - val_acc: 0.4898\n"
     ]
    }
   ],
   "source": [
    "# 載入 Callbacks\n",
    "\"\"\"Code Here\n",
    "設定 callbacks: model checkpoint\n",
    "\"\"\"\n",
    "from keras.callbacks import ModelCheckpoint\n",
    "\n",
    "model_ckpt = ModelCheckpoint(filepath='./tmp.h5',monitor='val_loss', save_best_only=True)\n",
    "model_ckpt2 = ModelCheckpoint(filepath='./tmp2.h5',monitor='val_loss', save_best_only=False)\n",
    "results = {}\n",
    "\"\"\"Code Here\n",
    "撰寫你的訓練流程並將結果用 dictionary 紀錄\n",
    "\"\"\"\n",
    "model = build_mlp(input_shape=x_train.shape[1:])\n",
    "model.summary()\n",
    "optimizer = keras.optimizers.SGD(lr=LEARNING_RATE, nesterov=True, momentum=MOMENTUM)\n",
    "model.compile(loss='categorical_crossentropy', metrics=['acc'], optimizer=optimizer)\n",
    "\n",
    "model.fit(x_train, y_train,\n",
    "         epochs=EPOCHS,\n",
    "         batch_size=BATCH_SIZE,\n",
    "         validation_data=(x_test,y_test),\n",
    "         shuffle=True,\n",
    "         callbacks=[model_ckpt])\n",
    "\n",
    "train_loss = model.history.history[\"loss\"]\n",
    "valid_loss = model.history.history[\"val_loss\"]\n",
    "train_acc = model.history.history[\"acc\"]\n",
    "valid_acc = model.history.history[\"val_acc\"]"
   ]
  },
  {
   "cell_type": "code",
   "execution_count": 14,
   "metadata": {},
   "outputs": [
    {
     "name": "stdout",
     "output_type": "stream",
     "text": [
      "Model: \"model_5\"\n",
      "_________________________________________________________________\n",
      "Layer (type)                 Output Shape              Param #   \n",
      "=================================================================\n",
      "input_5 (InputLayer)         (None, 3072)              0         \n",
      "_________________________________________________________________\n",
      "hidden_layer0 (Dense)        (None, 512)               1573376   \n",
      "_________________________________________________________________\n",
      "batch_normalization_13 (Batc (None, 512)               2048      \n",
      "_________________________________________________________________\n",
      "hidden_layer1 (Dense)        (None, 256)               131328    \n",
      "_________________________________________________________________\n",
      "batch_normalization_14 (Batc (None, 256)               1024      \n",
      "_________________________________________________________________\n",
      "hidden_layer2 (Dense)        (None, 128)               32896     \n",
      "_________________________________________________________________\n",
      "batch_normalization_15 (Batc (None, 128)               512       \n",
      "_________________________________________________________________\n",
      "output_layer (Dense)         (None, 10)                1290      \n",
      "=================================================================\n",
      "Total params: 1,742,474\n",
      "Trainable params: 1,740,682\n",
      "Non-trainable params: 1,792\n",
      "_________________________________________________________________\n",
      "Train on 50000 samples, validate on 10000 samples\n",
      "Epoch 1/50\n",
      "50000/50000 [==============================] - 9s 174us/step - loss: 2.2421 - acc: 0.2700 - val_loss: 2.1271 - val_acc: 0.2015\n",
      "Epoch 2/50\n",
      "50000/50000 [==============================] - 9s 180us/step - loss: 1.7356 - acc: 0.3943 - val_loss: 1.9488 - val_acc: 0.3103\n",
      "Epoch 3/50\n",
      "50000/50000 [==============================] - 8s 160us/step - loss: 1.6186 - acc: 0.4344 - val_loss: 1.8210 - val_acc: 0.3661\n",
      "Epoch 4/50\n",
      "50000/50000 [==============================] - 9s 184us/step - loss: 1.5479 - acc: 0.4569 - val_loss: 1.7213 - val_acc: 0.4039\n",
      "Epoch 5/50\n",
      "50000/50000 [==============================] - 8s 167us/step - loss: 1.4928 - acc: 0.4760 - val_loss: 1.6474 - val_acc: 0.4265\n",
      "Epoch 6/50\n",
      "50000/50000 [==============================] - 10s 191us/step - loss: 1.4488 - acc: 0.4917 - val_loss: 1.5957 - val_acc: 0.4410\n",
      "Epoch 7/50\n",
      "50000/50000 [==============================] - 9s 187us/step - loss: 1.4085 - acc: 0.5066 - val_loss: 1.5532 - val_acc: 0.4581\n",
      "Epoch 8/50\n",
      "50000/50000 [==============================] - 9s 174us/step - loss: 1.3742 - acc: 0.5210 - val_loss: 1.5266 - val_acc: 0.4600\n",
      "Epoch 9/50\n",
      "50000/50000 [==============================] - 8s 166us/step - loss: 1.3412 - acc: 0.5314 - val_loss: 1.5131 - val_acc: 0.4672\n",
      "Epoch 10/50\n",
      "50000/50000 [==============================] - 7s 147us/step - loss: 1.3109 - acc: 0.5431 - val_loss: 1.4945 - val_acc: 0.4730\n",
      "Epoch 11/50\n",
      "50000/50000 [==============================] - 8s 163us/step - loss: 1.2830 - acc: 0.5550 - val_loss: 1.4836 - val_acc: 0.4733\n",
      "Epoch 12/50\n",
      "50000/50000 [==============================] - 8s 152us/step - loss: 1.2544 - acc: 0.5656 - val_loss: 1.4763 - val_acc: 0.4791\n",
      "Epoch 13/50\n",
      "50000/50000 [==============================] - 9s 177us/step - loss: 1.2305 - acc: 0.5747 - val_loss: 1.4817 - val_acc: 0.4759\n",
      "Epoch 14/50\n",
      "50000/50000 [==============================] - 7s 143us/step - loss: 1.2042 - acc: 0.5820 - val_loss: 1.4717 - val_acc: 0.4827\n",
      "Epoch 15/50\n",
      "50000/50000 [==============================] - 7s 146us/step - loss: 1.1802 - acc: 0.5924 - val_loss: 1.4796 - val_acc: 0.4818\n",
      "Epoch 16/50\n",
      "50000/50000 [==============================] - 7s 142us/step - loss: 1.1571 - acc: 0.6002 - val_loss: 1.4538 - val_acc: 0.4898\n",
      "Epoch 17/50\n",
      "50000/50000 [==============================] - 8s 152us/step - loss: 1.1329 - acc: 0.6095 - val_loss: 1.4519 - val_acc: 0.4891\n",
      "Epoch 18/50\n",
      "50000/50000 [==============================] - 7s 148us/step - loss: 1.1103 - acc: 0.6189 - val_loss: 1.4666 - val_acc: 0.4868\n",
      "Epoch 19/50\n",
      "50000/50000 [==============================] - 9s 176us/step - loss: 1.0871 - acc: 0.6272 - val_loss: 1.4587 - val_acc: 0.4868\n",
      "Epoch 20/50\n",
      "50000/50000 [==============================] - 10s 193us/step - loss: 1.0685 - acc: 0.6319 - val_loss: 1.4668 - val_acc: 0.4908\n",
      "Epoch 21/50\n",
      "50000/50000 [==============================] - 8s 160us/step - loss: 1.0443 - acc: 0.6439 - val_loss: 1.4561 - val_acc: 0.4924\n",
      "Epoch 22/50\n",
      "50000/50000 [==============================] - 7s 149us/step - loss: 1.0235 - acc: 0.6515 - val_loss: 1.4438 - val_acc: 0.4970\n",
      "Epoch 23/50\n",
      "50000/50000 [==============================] - 8s 154us/step - loss: 1.0025 - acc: 0.6597 - val_loss: 1.4452 - val_acc: 0.4971\n",
      "Epoch 24/50\n",
      "50000/50000 [==============================] - 7s 146us/step - loss: 0.9817 - acc: 0.6687 - val_loss: 1.4616 - val_acc: 0.4915\n",
      "Epoch 25/50\n",
      "50000/50000 [==============================] - 7s 146us/step - loss: 0.9601 - acc: 0.6775 - val_loss: 1.4498 - val_acc: 0.4981\n",
      "Epoch 26/50\n",
      "50000/50000 [==============================] - 7s 145us/step - loss: 0.9406 - acc: 0.6852 - val_loss: 1.4577 - val_acc: 0.5010\n",
      "Epoch 27/50\n",
      "50000/50000 [==============================] - 7s 143us/step - loss: 0.9195 - acc: 0.6930 - val_loss: 1.4616 - val_acc: 0.4965\n",
      "Epoch 28/50\n",
      "50000/50000 [==============================] - 7s 147us/step - loss: 0.8990 - acc: 0.7001 - val_loss: 1.4711 - val_acc: 0.4944\n",
      "Epoch 29/50\n",
      "50000/50000 [==============================] - 7s 149us/step - loss: 0.8803 - acc: 0.7086 - val_loss: 1.4887 - val_acc: 0.4932\n",
      "Epoch 30/50\n",
      "50000/50000 [==============================] - 8s 154us/step - loss: 0.8612 - acc: 0.7149 - val_loss: 1.4668 - val_acc: 0.4973\n",
      "Epoch 31/50\n",
      "50000/50000 [==============================] - 7s 149us/step - loss: 0.8403 - acc: 0.7226 - val_loss: 1.4735 - val_acc: 0.4966\n",
      "Epoch 32/50\n",
      "50000/50000 [==============================] - 9s 176us/step - loss: 0.8214 - acc: 0.7305 - val_loss: 1.4849 - val_acc: 0.5006\n",
      "Epoch 33/50\n",
      "50000/50000 [==============================] - 8s 168us/step - loss: 0.8031 - acc: 0.7399 - val_loss: 1.4971 - val_acc: 0.5011\n",
      "Epoch 34/50\n",
      "50000/50000 [==============================] - 8s 153us/step - loss: 0.7826 - acc: 0.7473 - val_loss: 1.5010 - val_acc: 0.5027\n",
      "Epoch 35/50\n",
      "50000/50000 [==============================] - 9s 180us/step - loss: 0.7641 - acc: 0.7536 - val_loss: 1.5167 - val_acc: 0.4936\n",
      "Epoch 36/50\n",
      "50000/50000 [==============================] - 8s 151us/step - loss: 0.7444 - acc: 0.7612 - val_loss: 1.5192 - val_acc: 0.4958\n",
      "Epoch 37/50\n",
      "50000/50000 [==============================] - 8s 156us/step - loss: 0.7252 - acc: 0.7701 - val_loss: 1.5263 - val_acc: 0.4931\n",
      "Epoch 38/50\n",
      "50000/50000 [==============================] - 7s 149us/step - loss: 0.7066 - acc: 0.7756 - val_loss: 1.5501 - val_acc: 0.4860\n",
      "Epoch 39/50\n",
      "50000/50000 [==============================] - 8s 151us/step - loss: 0.6885 - acc: 0.7828 - val_loss: 1.5438 - val_acc: 0.4920\n",
      "Epoch 40/50\n",
      "50000/50000 [==============================] - 8s 151us/step - loss: 0.6705 - acc: 0.7902 - val_loss: 1.5570 - val_acc: 0.4962\n",
      "Epoch 41/50\n",
      "50000/50000 [==============================] - 7s 148us/step - loss: 0.6521 - acc: 0.7974 - val_loss: 1.5715 - val_acc: 0.4926\n",
      "Epoch 42/50\n",
      "50000/50000 [==============================] - 8s 154us/step - loss: 0.6363 - acc: 0.8042 - val_loss: 1.5714 - val_acc: 0.4988\n",
      "Epoch 43/50\n",
      "50000/50000 [==============================] - 8s 151us/step - loss: 0.6178 - acc: 0.8115 - val_loss: 1.5908 - val_acc: 0.4931\n",
      "Epoch 44/50\n",
      "50000/50000 [==============================] - 8s 155us/step - loss: 0.5990 - acc: 0.8206 - val_loss: 1.6092 - val_acc: 0.4897\n",
      "Epoch 45/50\n",
      "50000/50000 [==============================] - 7s 147us/step - loss: 0.5818 - acc: 0.8261 - val_loss: 1.6045 - val_acc: 0.4953\n",
      "Epoch 46/50\n",
      "50000/50000 [==============================] - 7s 134us/step - loss: 0.5644 - acc: 0.8334 - val_loss: 1.6136 - val_acc: 0.4917\n",
      "Epoch 47/50\n",
      "50000/50000 [==============================] - 7s 132us/step - loss: 0.5481 - acc: 0.8399 - val_loss: 1.6394 - val_acc: 0.4852\n",
      "Epoch 48/50\n",
      "50000/50000 [==============================] - 7s 137us/step - loss: 0.5328 - acc: 0.8449 - val_loss: 1.6417 - val_acc: 0.4837\n",
      "Epoch 49/50\n",
      "50000/50000 [==============================] - 7s 136us/step - loss: 0.5160 - acc: 0.8503 - val_loss: 1.6712 - val_acc: 0.4900\n",
      "Epoch 50/50\n",
      "50000/50000 [==============================] - 7s 130us/step - loss: 0.4988 - acc: 0.8596 - val_loss: 1.6620 - val_acc: 0.4847\n"
     ]
    }
   ],
   "source": [
    "model2 = build_mlp(input_shape=x_train.shape[1:])\n",
    "model2.summary()\n",
    "optimizer = keras.optimizers.SGD(lr=LEARNING_RATE, nesterov=True, momentum=MOMENTUM)\n",
    "model2.compile(loss='categorical_crossentropy', metrics=['acc'], optimizer=optimizer)\n",
    "\n",
    "model2.fit(x_train, y_train,\n",
    "         epochs=EPOCHS,\n",
    "         batch_size=BATCH_SIZE,\n",
    "         validation_data=(x_test,y_test),\n",
    "         shuffle=True,\n",
    "         callbacks=[model_ckpt2])\n",
    "\n",
    "train_loss2 = model.history.history[\"loss\"]\n",
    "valid_loss2 = model.history.history[\"val_loss\"]\n",
    "train_acc2 = model.history.history[\"acc\"]\n",
    "valid_acc2 = model.history.history[\"val_acc\"]"
   ]
  },
  {
   "cell_type": "code",
   "execution_count": 7,
   "metadata": {},
   "outputs": [
    {
     "name": "stdout",
     "output_type": "stream",
     "text": [
      "10000/10000 [==============================] - 1s 89us/step\n"
     ]
    }
   ],
   "source": [
    "model = keras.models.load_model('./tmp.h5')\n",
    "loss_loadback, acc_loadback = model.evaluate(x_test, y_test)"
   ]
  },
  {
   "cell_type": "code",
   "execution_count": 9,
   "metadata": {},
   "outputs": [
    {
     "data": {
      "text/plain": [
       "1.4560691522598266"
      ]
     },
     "execution_count": 9,
     "metadata": {},
     "output_type": "execute_result"
    }
   ],
   "source": [
    "loss_loadback"
   ]
  },
  {
   "cell_type": "code",
   "execution_count": 10,
   "metadata": {},
   "outputs": [
    {
     "data": {
      "text/plain": [
       "0.5015000104904175"
      ]
     },
     "execution_count": 10,
     "metadata": {},
     "output_type": "execute_result"
    }
   ],
   "source": [
    "acc_loadback"
   ]
  },
  {
   "cell_type": "code",
   "execution_count": 12,
   "metadata": {},
   "outputs": [
    {
     "name": "stdout",
     "output_type": "stream",
     "text": [
      "10000/10000 [==============================] - 1s 93us/step\n"
     ]
    }
   ],
   "source": [
    "model2 = keras.models.load_model('./tmp2.h5')\n",
    "loss_loadback2, acc_loadback2 = model2.evaluate(x_test, y_test)"
   ]
  },
  {
   "cell_type": "code",
   "execution_count": 13,
   "metadata": {},
   "outputs": [
    {
     "data": {
      "text/plain": [
       "1.6620458951950072"
      ]
     },
     "execution_count": 13,
     "metadata": {},
     "output_type": "execute_result"
    }
   ],
   "source": [
    "loss_loadback2"
   ]
  },
  {
   "cell_type": "code",
   "execution_count": 14,
   "metadata": {},
   "outputs": [
    {
     "data": {
      "text/plain": [
       "0.4846999943256378"
      ]
     },
     "execution_count": 14,
     "metadata": {},
     "output_type": "execute_result"
    }
   ],
   "source": [
    "acc_loadback2"
   ]
  },
  {
   "cell_type": "code",
   "execution_count": 16,
   "metadata": {},
   "outputs": [],
   "source": [
    "pred_loadback = model.predict(x_test)"
   ]
  },
  {
   "cell_type": "code",
   "execution_count": 18,
   "metadata": {},
   "outputs": [
    {
     "name": "stdout",
     "output_type": "stream",
     "text": [
      "Accuracy of best weights: 0.501\n"
     ]
    }
   ],
   "source": [
    "from sklearn.metrics import accuracy_score\n",
    "\n",
    "loadback_acc = accuracy_score(y_true=y_test.argmax(axis=-1), y_pred=pred_loadback.argmax(axis=-1))\n",
    "print(\"Accuracy of best weights: %.3f\" % loadback_acc)"
   ]
  },
  {
   "cell_type": "code",
   "execution_count": 15,
   "metadata": {
    "scrolled": true
   },
   "outputs": [
    {
     "data": {
      "image/png": "[encoded data removed]",
      "text/plain": [
       "<Figure size 432x288 with 1 Axes>"
      ]
     },
     "metadata": {
      "needs_background": "light"
     },
     "output_type": "display_data"
    },
    {
     "data": {
      "image/png": "[encoded data removed]",
      "text/plain": [
       "<Figure size 432x288 with 1 Axes>"
      ]
     },
     "metadata": {
      "needs_background": "light"
     },
     "output_type": "display_data"
    }
   ],
   "source": [
    "import matplotlib.pyplot as plt\n",
    "%matplotlib inline\n",
    "\"\"\"Code Here\n",
    "將結果繪出\n",
    "\"\"\"\n",
    "plt.plot(range(len(train_loss)),train_loss, label='train loss')\n",
    "plt.plot(range(len(valid_loss)),valid_loss, label='valid loss')\n",
    "plt.legend()\n",
    "plt.title(\"Loss\")\n",
    "plt.show()\n",
    "\n",
    "plt.plot(range(len(train_acc)), train_acc, label=\"train accuracy\")\n",
    "plt.plot(range(len(valid_acc)), valid_acc, label=\"valid accuracy\")\n",
    "#plt.hlines(y=acc_loadback, xmin=0, xmax=len(train_loss), colors='r', linestyles='--')\n",
    "plt.legend()\n",
    "plt.title(\"Accuracy\")\n",
    "plt.show()"
   ]
  },
  {
   "cell_type": "code",
   "execution_count": 16,
   "metadata": {},
   "outputs": [
    {
     "data": {
      "image/png": "[encoded data removed]",
      "text/plain": [
       "<Figure size 432x288 with 1 Axes>"
      ]
     },
     "metadata": {
      "needs_background": "light"
     },
     "output_type": "display_data"
    },
    {
     "data": {
      "image/png": "[encoded data removed]",
      "text/plain": [
       "<Figure size 432x288 with 1 Axes>"
      ]
     },
     "metadata": {
      "needs_background": "light"
     },
     "output_type": "display_data"
    }
   ],
   "source": [
    "plt.plot(range(len(train_loss2)),train_loss2, label='train loss')\n",
    "plt.plot(range(len(valid_loss2)),valid_loss2, label='valid loss')\n",
    "plt.legend()\n",
    "plt.title(\"Loss\")\n",
    "plt.show()\n",
    "\n",
    "plt.plot(range(len(train_acc2)), train_acc2, label=\"train accuracy\")\n",
    "plt.plot(range(len(valid_acc2)), valid_acc2, label=\"valid accuracy\")\n",
    "#plt.hlines(y=acc_loadback, xmin=0, xmax=len(train_loss), colors='r', linestyles='--')\n",
    "plt.legend()\n",
    "plt.title(\"Accuracy\")\n",
    "plt.show()"
   ]
  },
  {
   "cell_type": "code",
   "execution_count": 11,
   "metadata": {},
   "outputs": [
    {
     "data": {
      "text/plain": [
       "array([3, 8, 8, ..., 5, 1, 7], dtype=int64)"
      ]
     },
     "execution_count": 11,
     "metadata": {},
     "output_type": "execute_result"
    }
   ],
   "source": [
    "y_test.argmax(axis=-1)"
   ]
  },
  {
   "cell_type": "code",
   "execution_count": null,
   "metadata": {},
   "outputs": [],
   "source": []
  }
 ],
 "metadata": {
  "kernelspec": {
   "display_name": "Python 3",
   "language": "python",
   "name": "python3"
  },
  "language_info": {
   "codemirror_mode": {
    "name": "ipython",
    "version": 3
   },
   "file_extension": ".py",
   "mimetype": "text/x-python",
   "name": "python",
   "nbconvert_exporter": "python",
   "pygments_lexer": "ipython3",
   "version": "3.7.6"
  }
 },
 "nbformat": 4,
 "nbformat_minor": 2
}
