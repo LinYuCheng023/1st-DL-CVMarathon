{
 "cells": [
  {
   "cell_type": "markdown",
   "metadata": {},
   "source": [
    "## 範例重點\n",
    "* 學習如何在 keras 中加入自定義的 callbacks\n",
    "* 知道 callback function 可以動作的時機"
   ]
  },
  {
   "cell_type": "code",
   "execution_count": 1,
   "metadata": {},
   "outputs": [
    {
     "name": "stderr",
     "output_type": "stream",
     "text": [
      "Using TensorFlow backend.\n",
      "C:\\Users\\ian\\anaconda3\\lib\\site-packages\\tensorflow\\python\\framework\\dtypes.py:526: FutureWarning: Passing (type, 1) or '1type' as a synonym of type is deprecated; in a future version of numpy, it will be understood as (type, (1,)) / '(1,)type'.\n",
      "  _np_qint8 = np.dtype([(\"qint8\", np.int8, 1)])\n",
      "C:\\Users\\ian\\anaconda3\\lib\\site-packages\\tensorflow\\python\\framework\\dtypes.py:527: FutureWarning: Passing (type, 1) or '1type' as a synonym of type is deprecated; in a future version of numpy, it will be understood as (type, (1,)) / '(1,)type'.\n",
      "  _np_quint8 = np.dtype([(\"quint8\", np.uint8, 1)])\n",
      "C:\\Users\\ian\\anaconda3\\lib\\site-packages\\tensorflow\\python\\framework\\dtypes.py:528: FutureWarning: Passing (type, 1) or '1type' as a synonym of type is deprecated; in a future version of numpy, it will be understood as (type, (1,)) / '(1,)type'.\n",
      "  _np_qint16 = np.dtype([(\"qint16\", np.int16, 1)])\n",
      "C:\\Users\\ian\\anaconda3\\lib\\site-packages\\tensorflow\\python\\framework\\dtypes.py:529: FutureWarning: Passing (type, 1) or '1type' as a synonym of type is deprecated; in a future version of numpy, it will be understood as (type, (1,)) / '(1,)type'.\n",
      "  _np_quint16 = np.dtype([(\"quint16\", np.uint16, 1)])\n",
      "C:\\Users\\ian\\anaconda3\\lib\\site-packages\\tensorflow\\python\\framework\\dtypes.py:530: FutureWarning: Passing (type, 1) or '1type' as a synonym of type is deprecated; in a future version of numpy, it will be understood as (type, (1,)) / '(1,)type'.\n",
      "  _np_qint32 = np.dtype([(\"qint32\", np.int32, 1)])\n",
      "C:\\Users\\ian\\anaconda3\\lib\\site-packages\\tensorflow\\python\\framework\\dtypes.py:535: FutureWarning: Passing (type, 1) or '1type' as a synonym of type is deprecated; in a future version of numpy, it will be understood as (type, (1,)) / '(1,)type'.\n",
      "  np_resource = np.dtype([(\"resource\", np.ubyte, 1)])\n"
     ]
    }
   ],
   "source": [
    "import os\n",
    "import keras\n",
    "\n",
    "# 本範例不需使用 GPU, 將 GPU 設定為 \"無\"\n",
    "os.environ[\"CUDA_VISIBLE_DEVICES\"] = \"\""
   ]
  },
  {
   "cell_type": "code",
   "execution_count": 2,
   "metadata": {},
   "outputs": [],
   "source": [
    "train, test = keras.datasets.cifar10.load_data()"
   ]
  },
  {
   "cell_type": "code",
   "execution_count": 3,
   "metadata": {},
   "outputs": [],
   "source": [
    "## 資料前處理\n",
    "def preproc_x(x, flatten=True):\n",
    "    x = x / 255.\n",
    "    if flatten:\n",
    "        x = x.reshape((len(x), -1))\n",
    "    return x\n",
    "\n",
    "def preproc_y(y, num_classes=10):\n",
    "    if y.shape[-1] == 1:\n",
    "        y = keras.utils.to_categorical(y, num_classes)\n",
    "    return y    "
   ]
  },
  {
   "cell_type": "code",
   "execution_count": 4,
   "metadata": {},
   "outputs": [],
   "source": [
    "x_train, y_train = train\n",
    "x_test, y_test = test\n",
    "\n",
    "# 資料前處理 - X 標準化\n",
    "x_train = preproc_x(x_train)\n",
    "x_test = preproc_x(x_test)\n",
    "\n",
    "# 資料前處理 -Y 轉成 onehot\n",
    "y_train = preproc_y(y_train)\n",
    "y_test = preproc_y(y_test)"
   ]
  },
  {
   "cell_type": "code",
   "execution_count": 5,
   "metadata": {},
   "outputs": [],
   "source": [
    "from keras.layers import BatchNormalization\n",
    "\n",
    "\"\"\"\n",
    "建立神經網路，並加入 BN layer\n",
    "\"\"\"\n",
    "def build_mlp(input_shape, output_units=10, num_neurons=[512, 256, 128]):\n",
    "    input_layer = keras.layers.Input(input_shape)\n",
    "    \n",
    "    for i, n_units in enumerate(num_neurons):\n",
    "        if i == 0:\n",
    "            x = keras.layers.Dense(units=n_units, \n",
    "                                   activation=\"relu\", \n",
    "                                   name=\"hidden_layer\"+str(i+1))(input_layer)\n",
    "            x = BatchNormalization()(x)\n",
    "        else:\n",
    "            x = keras.layers.Dense(units=n_units, \n",
    "                                   activation=\"relu\", \n",
    "                                   name=\"hidden_layer\"+str(i+1))(x)\n",
    "            x = BatchNormalization()(x)\n",
    "    \n",
    "    out = keras.layers.Dense(units=output_units, activation=\"softmax\", name=\"output\")(x)\n",
    "    \n",
    "    model = keras.models.Model(inputs=[input_layer], outputs=[out])\n",
    "    return model"
   ]
  },
  {
   "cell_type": "code",
   "execution_count": 6,
   "metadata": {},
   "outputs": [],
   "source": [
    "## 超參數設定\n",
    "LEARNING_RATE = 1e-3\n",
    "EPOCHS = 50\n",
    "BATCH_SIZE = 1024\n",
    "MOMENTUM = 0.95"
   ]
  },
  {
   "cell_type": "code",
   "execution_count": 7,
   "metadata": {},
   "outputs": [],
   "source": [
    "\"\"\"\n",
    "# 載入 Callbacks，撰寫一個 f1 score 的 callback function\n",
    "\"\"\"\n",
    "\n",
    "from keras.callbacks import Callback\n",
    "from sklearn.metrics import f1_score\n",
    "\n",
    "class f1sc(Callback):\n",
    "    def on_train_begin(self, epoch, logs = {}):\n",
    "        logs = logs or {}\n",
    "        record_items = [\"val_auc\", \"val_f1sc\", \"val_fp\", \"val_fn\", \"val_tp\", \"val_tn\"]\n",
    "        for i in record_items:\n",
    "            if i not in self.params['metrics']:\n",
    "                self.params['metrics'].append(i)\n",
    "    \n",
    "    def on_epoch_end(self, epoch, logs = {}, thres=0.5):\n",
    "        logs = logs or {}\n",
    "        y_true = self.validation_data[1].argmax(axis = 1)\n",
    "        y_pred = self.model.predict(self.validation_data[0])\n",
    "        y_pred = (y_pred[:, 1] >= thres) * 1\n",
    "        \n",
    "        logs[\"val_f1sc\"] = f1_score(y_true = y_true, y_pred = y_pred, average=\"weighted\")\n",
    "        \n",
    "log_f1sc = f1sc()"
   ]
  },
  {
   "cell_type": "code",
   "execution_count": 8,
   "metadata": {
    "scrolled": true
   },
   "outputs": [
    {
     "name": "stdout",
     "output_type": "stream",
     "text": [
      "WARNING:tensorflow:From C:\\Users\\ian\\anaconda3\\lib\\site-packages\\tensorflow\\python\\ops\\resource_variable_ops.py:435: colocate_with (from tensorflow.python.framework.ops) is deprecated and will be removed in a future version.\n",
      "Instructions for updating:\n",
      "Colocations handled automatically by placer.\n",
      "Model: \"model_1\"\n",
      "_________________________________________________________________\n",
      "Layer (type)                 Output Shape              Param #   \n",
      "=================================================================\n",
      "input_1 (InputLayer)         (None, 3072)              0         \n",
      "_________________________________________________________________\n",
      "hidden_layer1 (Dense)        (None, 512)               1573376   \n",
      "_________________________________________________________________\n",
      "batch_normalization_1 (Batch (None, 512)               2048      \n",
      "_________________________________________________________________\n",
      "hidden_layer2 (Dense)        (None, 256)               131328    \n",
      "_________________________________________________________________\n",
      "batch_normalization_2 (Batch (None, 256)               1024      \n",
      "_________________________________________________________________\n",
      "hidden_layer3 (Dense)        (None, 128)               32896     \n",
      "_________________________________________________________________\n",
      "batch_normalization_3 (Batch (None, 128)               512       \n",
      "_________________________________________________________________\n",
      "output (Dense)               (None, 10)                1290      \n",
      "=================================================================\n",
      "Total params: 1,742,474\n",
      "Trainable params: 1,740,682\n",
      "Non-trainable params: 1,792\n",
      "_________________________________________________________________\n",
      "WARNING:tensorflow:From C:\\Users\\ian\\anaconda3\\lib\\site-packages\\tensorflow\\python\\ops\\math_ops.py:3066: to_int32 (from tensorflow.python.ops.math_ops) is deprecated and will be removed in a future version.\n",
      "Instructions for updating:\n",
      "Use tf.cast instead.\n",
      "Train on 50000 samples, validate on 10000 samples\n",
      "Epoch 1/50\n",
      "50000/50000 [==============================] - 8s 169us/step - loss: 2.2326 - acc: 0.2659 - val_loss: 2.1850 - val_acc: 0.1745\n",
      "Epoch 2/50\n",
      "50000/50000 [==============================] - 7s 143us/step - loss: 1.7451 - acc: 0.3925 - val_loss: 2.0138 - val_acc: 0.2714\n",
      "Epoch 3/50\n",
      "50000/50000 [==============================] - 8s 154us/step - loss: 1.6185 - acc: 0.4326 - val_loss: 1.8223 - val_acc: 0.3680\n",
      "Epoch 4/50\n",
      "50000/50000 [==============================] - 7s 141us/step - loss: 1.5423 - acc: 0.4590 - val_loss: 1.7251 - val_acc: 0.3966\n",
      "Epoch 5/50\n",
      "50000/50000 [==============================] - 7s 148us/step - loss: 1.4890 - acc: 0.4796 - val_loss: 1.6368 - val_acc: 0.4258\n",
      "Epoch 6/50\n",
      "50000/50000 [==============================] - 7s 143us/step - loss: 1.4442 - acc: 0.4933 - val_loss: 1.5839 - val_acc: 0.4453\n",
      "Epoch 7/50\n",
      "50000/50000 [==============================] - 7s 146us/step - loss: 1.4046 - acc: 0.5100 - val_loss: 1.5554 - val_acc: 0.4494\n",
      "Epoch 8/50\n",
      "50000/50000 [==============================] - 7s 147us/step - loss: 1.3682 - acc: 0.5225 - val_loss: 1.5390 - val_acc: 0.4566\n",
      "Epoch 9/50\n",
      "50000/50000 [==============================] - 7s 147us/step - loss: 1.3376 - acc: 0.5330 - val_loss: 1.5100 - val_acc: 0.4684\n",
      "Epoch 10/50\n",
      "50000/50000 [==============================] - 7s 145us/step - loss: 1.3056 - acc: 0.5443 - val_loss: 1.4979 - val_acc: 0.4728\n",
      "Epoch 11/50\n",
      "50000/50000 [==============================] - 7s 146us/step - loss: 1.2797 - acc: 0.5553 - val_loss: 1.4864 - val_acc: 0.4789\n",
      "Epoch 12/50\n",
      "50000/50000 [==============================] - 7s 141us/step - loss: 1.2545 - acc: 0.5632 - val_loss: 1.4885 - val_acc: 0.4827\n",
      "Epoch 13/50\n",
      "50000/50000 [==============================] - 7s 146us/step - loss: 1.2272 - acc: 0.5751 - val_loss: 1.4754 - val_acc: 0.4824\n",
      "Epoch 14/50\n",
      "50000/50000 [==============================] - 7s 141us/step - loss: 1.2014 - acc: 0.5845 - val_loss: 1.4777 - val_acc: 0.4816\n",
      "Epoch 15/50\n",
      "50000/50000 [==============================] - 7s 148us/step - loss: 1.1788 - acc: 0.5927 - val_loss: 1.4767 - val_acc: 0.4830\n",
      "Epoch 16/50\n",
      "50000/50000 [==============================] - 7s 141us/step - loss: 1.1546 - acc: 0.6018 - val_loss: 1.4610 - val_acc: 0.4914\n",
      "Epoch 17/50\n",
      "50000/50000 [==============================] - 7s 149us/step - loss: 1.1310 - acc: 0.6118 - val_loss: 1.4662 - val_acc: 0.4898\n",
      "Epoch 18/50\n",
      "50000/50000 [==============================] - 7s 139us/step - loss: 1.1097 - acc: 0.6210 - val_loss: 1.4668 - val_acc: 0.4864\n",
      "Epoch 19/50\n",
      "50000/50000 [==============================] - 7s 144us/step - loss: 1.0875 - acc: 0.6274 - val_loss: 1.4581 - val_acc: 0.4905\n",
      "Epoch 20/50\n",
      "50000/50000 [==============================] - 7s 144us/step - loss: 1.0671 - acc: 0.6355 - val_loss: 1.4596 - val_acc: 0.4903\n",
      "Epoch 21/50\n",
      "50000/50000 [==============================] - 7s 142us/step - loss: 1.0448 - acc: 0.6433 - val_loss: 1.4710 - val_acc: 0.4915\n",
      "Epoch 22/50\n",
      "50000/50000 [==============================] - 7s 147us/step - loss: 1.0232 - acc: 0.6521 - val_loss: 1.4707 - val_acc: 0.4914\n",
      "Epoch 23/50\n",
      "50000/50000 [==============================] - 7s 142us/step - loss: 1.0049 - acc: 0.6593 - val_loss: 1.4571 - val_acc: 0.4921\n",
      "Epoch 24/50\n",
      "50000/50000 [==============================] - 7s 149us/step - loss: 0.9817 - acc: 0.6677 - val_loss: 1.4607 - val_acc: 0.4962\n",
      "Epoch 25/50\n",
      "50000/50000 [==============================] - 7s 144us/step - loss: 0.9618 - acc: 0.6757 - val_loss: 1.4606 - val_acc: 0.4926\n",
      "Epoch 26/50\n",
      "50000/50000 [==============================] - 8s 152us/step - loss: 0.9418 - acc: 0.6819 - val_loss: 1.4649 - val_acc: 0.4924\n",
      "Epoch 27/50\n",
      "50000/50000 [==============================] - 7s 143us/step - loss: 0.9240 - acc: 0.6906 - val_loss: 1.4650 - val_acc: 0.4991\n",
      "Epoch 28/50\n",
      "50000/50000 [==============================] - 7s 148us/step - loss: 0.9038 - acc: 0.6962 - val_loss: 1.4781 - val_acc: 0.4925\n",
      "Epoch 29/50\n",
      "50000/50000 [==============================] - 7s 144us/step - loss: 0.8853 - acc: 0.7045 - val_loss: 1.4913 - val_acc: 0.4895\n",
      "Epoch 30/50\n",
      "50000/50000 [==============================] - 7s 148us/step - loss: 0.8628 - acc: 0.7136 - val_loss: 1.4796 - val_acc: 0.4925\n",
      "Epoch 31/50\n",
      "50000/50000 [==============================] - 7s 147us/step - loss: 0.8461 - acc: 0.7210 - val_loss: 1.4965 - val_acc: 0.4934\n",
      "Epoch 32/50\n",
      "50000/50000 [==============================] - 8s 153us/step - loss: 0.8270 - acc: 0.7272 - val_loss: 1.4967 - val_acc: 0.4920\n",
      "Epoch 33/50\n",
      "50000/50000 [==============================] - 7s 145us/step - loss: 0.8058 - acc: 0.7366 - val_loss: 1.4945 - val_acc: 0.4915\n",
      "Epoch 34/50\n",
      "50000/50000 [==============================] - 7s 147us/step - loss: 0.7892 - acc: 0.7421 - val_loss: 1.5466 - val_acc: 0.4854\n",
      "Epoch 35/50\n",
      "50000/50000 [==============================] - 7s 144us/step - loss: 0.7690 - acc: 0.7512 - val_loss: 1.5106 - val_acc: 0.4984\n",
      "Epoch 36/50\n",
      "50000/50000 [==============================] - 7s 147us/step - loss: 0.7491 - acc: 0.7608 - val_loss: 1.5140 - val_acc: 0.4965\n",
      "Epoch 37/50\n",
      "50000/50000 [==============================] - 7s 143us/step - loss: 0.7314 - acc: 0.7650 - val_loss: 1.5198 - val_acc: 0.4971\n",
      "Epoch 38/50\n",
      "50000/50000 [==============================] - 8s 152us/step - loss: 0.7133 - acc: 0.7725 - val_loss: 1.5304 - val_acc: 0.4956\n",
      "Epoch 39/50\n",
      "50000/50000 [==============================] - 7s 146us/step - loss: 0.6955 - acc: 0.7808 - val_loss: 1.5489 - val_acc: 0.4903\n",
      "Epoch 40/50\n",
      "50000/50000 [==============================] - 7s 148us/step - loss: 0.6774 - acc: 0.7859 - val_loss: 1.5626 - val_acc: 0.4942\n",
      "Epoch 41/50\n",
      "50000/50000 [==============================] - 8s 151us/step - loss: 0.6592 - acc: 0.7939 - val_loss: 1.5745 - val_acc: 0.4945\n",
      "Epoch 42/50\n",
      "50000/50000 [==============================] - 7s 143us/step - loss: 0.6424 - acc: 0.8019 - val_loss: 1.5645 - val_acc: 0.4936\n",
      "Epoch 43/50\n",
      "50000/50000 [==============================] - 7s 149us/step - loss: 0.6233 - acc: 0.8094 - val_loss: 1.5786 - val_acc: 0.4963\n",
      "Epoch 44/50\n",
      "50000/50000 [==============================] - 7s 146us/step - loss: 0.6059 - acc: 0.8158 - val_loss: 1.5939 - val_acc: 0.4943\n",
      "Epoch 45/50\n"
     ]
    },
    {
     "name": "stdout",
     "output_type": "stream",
     "text": [
      "50000/50000 [==============================] - 7s 147us/step - loss: 0.5894 - acc: 0.8226 - val_loss: 1.6003 - val_acc: 0.4962\n",
      "Epoch 46/50\n",
      "50000/50000 [==============================] - 7s 138us/step - loss: 0.5734 - acc: 0.8295 - val_loss: 1.6067 - val_acc: 0.4927\n",
      "Epoch 47/50\n",
      "50000/50000 [==============================] - 7s 146us/step - loss: 0.5589 - acc: 0.8347 - val_loss: 1.6110 - val_acc: 0.4946\n",
      "Epoch 48/50\n",
      "50000/50000 [==============================] - 7s 142us/step - loss: 0.5411 - acc: 0.8417 - val_loss: 1.6390 - val_acc: 0.4960\n",
      "Epoch 49/50\n",
      "50000/50000 [==============================] - 7s 145us/step - loss: 0.5231 - acc: 0.8487 - val_loss: 1.6351 - val_acc: 0.4896\n",
      "Epoch 50/50\n",
      "50000/50000 [==============================] - 7s 145us/step - loss: 0.5075 - acc: 0.8563 - val_loss: 1.6632 - val_acc: 0.4911\n"
     ]
    }
   ],
   "source": [
    "model = build_mlp(input_shape=x_train.shape[1:])\n",
    "model.summary()\n",
    "optimizer = keras.optimizers.SGD(lr=LEARNING_RATE, nesterov=True, momentum=MOMENTUM)\n",
    "model.compile(loss=\"categorical_crossentropy\", metrics=[\"acc\"], optimizer=optimizer)\n",
    "\n",
    "model.fit(x_train, y_train, \n",
    "          epochs=EPOCHS, \n",
    "          batch_size=BATCH_SIZE, \n",
    "          validation_data=(x_test, y_test), \n",
    "          shuffle=True,\n",
    "          callbacks=[log_f1sc]\n",
    "         )\n",
    "\n",
    "# Collect results\n",
    "train_loss = model.history.history[\"loss\"]\n",
    "valid_loss = model.history.history[\"val_loss\"]\n",
    "train_acc = model.history.history[\"acc\"]\n",
    "valid_acc = model.history.history[\"val_acc\"]\n",
    "\n",
    "# 在訓練後，將 f1sc 紀錄調出\n",
    "valid_f1sc = model.history.history['val_f1sc']"
   ]
  },
  {
   "cell_type": "code",
   "execution_count": 9,
   "metadata": {},
   "outputs": [
    {
     "data": {
      "image/png": "[encoded data removed]",
      "text/plain": [
       "<Figure size 432x288 with 1 Axes>"
      ]
     },
     "metadata": {
      "needs_background": "light"
     },
     "output_type": "display_data"
    },
    {
     "data": {
      "image/png": "[encoded data removed]",
      "text/plain": [
       "<Figure size 432x288 with 1 Axes>"
      ]
     },
     "metadata": {
      "needs_background": "light"
     },
     "output_type": "display_data"
    },
    {
     "data": {
      "image/png": "[encoded data removed]",
      "text/plain": [
       "<Figure size 432x288 with 1 Axes>"
      ]
     },
     "metadata": {
      "needs_background": "light"
     },
     "output_type": "display_data"
    }
   ],
   "source": [
    "import matplotlib.pyplot as plt\n",
    "%matplotlib inline\n",
    "\n",
    "plt.plot(range(len(train_loss)), train_loss, label=\"train loss\")\n",
    "plt.plot(range(len(valid_loss)), valid_loss, label=\"valid loss\")\n",
    "plt.legend()\n",
    "plt.title(\"Loss\")\n",
    "plt.show()\n",
    "\n",
    "plt.plot(range(len(train_acc)), train_acc, label=\"train accuracy\")\n",
    "plt.plot(range(len(valid_acc)), valid_acc, label=\"valid accuracy\")\n",
    "plt.legend()\n",
    "plt.title(\"Accuracy\")\n",
    "plt.show()\n",
    "\n",
    "plt.plot(range(len(valid_f1sc)), valid_f1sc, label=\"valid f1-score\")\n",
    "plt.legend()\n",
    "plt.title(\"F1-score\")\n",
    "plt.show()\n"
   ]
  },
  {
   "cell_type": "markdown",
   "metadata": {},
   "source": [
    "## Work\n",
    "1. 請嘗試寫一個 callback 用來記錄各類別在訓練過程中，對驗證集的 True Positive 與 True Negative"
   ]
  }
 ],
 "metadata": {
  "kernelspec": {
   "display_name": "Python 3",
   "language": "python",
   "name": "python3"
  },
  "language_info": {
   "codemirror_mode": {
    "name": "ipython",
    "version": 3
   },
   "file_extension": ".py",
   "mimetype": "text/x-python",
   "name": "python",
   "nbconvert_exporter": "python",
   "pygments_lexer": "ipython3",
   "version": "3.7.6"
  }
 },
 "nbformat": 4,
 "nbformat_minor": 2
}
